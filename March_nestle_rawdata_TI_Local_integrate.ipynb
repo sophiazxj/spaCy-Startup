{
 "cells": [
  {
   "cell_type": "markdown",
   "metadata": {},
   "source": [
    "## Nestle March Data Manipulate"
   ]
  },
  {
   "cell_type": "code",
   "execution_count": 1,
   "metadata": {
    "collapsed": true
   },
   "outputs": [],
   "source": [
    "import pandas as pd\n",
    "import numpy as np"
   ]
  },
  {
   "cell_type": "markdown",
   "metadata": {},
   "source": [
    "### Merge all data from ti together and drop duplicate by review_id ( only for JD & Tmall)\n"
   ]
  },
  {
   "cell_type": "code",
   "execution_count": 2,
   "metadata": {
    "collapsed": true
   },
   "outputs": [],
   "source": [
    "# read in all data files from India\n",
    "ti_jd_1 = pd.read_csv('mar_quarterly_raw_data/t1.cn.JD.reviewtext.adhoc.url.india--28191.2018-03-17.v0.csv', encoding='utf-8')\n",
    "ti_jd_2 = pd.read_csv('mar_quarterly_raw_data/t1.cn.JD.reviewtext.adhoc.url.india--28191.2018-03-20.v0.csv', encoding='utf-8')\n",
    "ti_jd_3 = pd.read_csv('mar_quarterly_raw_data/t1.cn.JD.reviewtext.adhoc.url.india--28615.2018-04-03.v0.csv', encoding='utf-8')\n",
    "\n",
    "ti_tmall_1 = pd.read_csv('mar_quarterly_raw_data/t1.cn.Tmall.reviewtext.adhoc.url.india.20180315.csv', encoding='utf-8')\n",
    "ti_tmall_2 = pd.read_csv('mar_quarterly_raw_data/t1.cn.Tmall.reviewtext.adhoc.url.india.20180331.csv', encoding='utf-8')\n",
    "\n",
    "ti_suning_1 = pd.read_csv('mar_quarterly_raw_data/t1.cn.Suning.reviewtext.adhoc.url.india--28191.2018-03-19.v0.csv', encoding='utf-8')\n",
    "ti_suning_2 = pd.read_csv('mar_quarterly_raw_data/t1.cn.Suning.reviewtext.adhoc.url.india--28615.2018-04-03.v0.csv', encoding='utf-8')\n"
   ]
  },
  {
   "cell_type": "code",
   "execution_count": 33,
   "metadata": {},
   "outputs": [],
   "source": [
    "# concat all JD together\n",
    "ti_jd = pd.concat([ti_jd_1, ti_jd_2, ti_jd_3], ignore_index=True)\n",
    "ti_jd.drop_duplicates(subset= ['review_id','user_id', 'review_date'], inplace=True)\n",
    "\n",
    "# concat all Tmall together\n",
    "ti_tmall = pd.concat([ti_tmall_1, ti_tmall_2], ignore_index=True)\n",
    "ti_tmall.drop_duplicates(subset= ['review_id','user_id', 'review_date'], inplace=True)\n",
    "\n",
    "# concat all Suning together\n",
    "ti_suning = pd.concat([ti_suning_1, ti_suning_2], ignore_index=True)\n",
    "ti_suning['review_id']= np.NaN\n",
    "ti_suning['user_id']= np.NaN"
   ]
  },
  {
   "cell_type": "markdown",
   "metadata": {},
   "source": [
    "### fix headers and merge together"
   ]
  },
  {
   "cell_type": "code",
   "execution_count": 168,
   "metadata": {
    "collapsed": true
   },
   "outputs": [],
   "source": [
    "ti_clm = ['store','url','rpc', 'product_description', \n",
    "          'review_id','review_date', 'username', 'review_text', 'review_rating',\n",
    "          'variants', 'image_url']\n",
    "\n"
   ]
  },
  {
   "cell_type": "code",
   "execution_count": 75,
   "metadata": {},
   "outputs": [
    {
     "data": {
      "text/plain": [
       "(5611, 11)"
      ]
     },
     "execution_count": 75,
     "metadata": {},
     "output_type": "execute_result"
    }
   ],
   "source": [
    "ti_tmall.rename(columns={'review_image':'image_url','harvest_product_description':'product_description','retailer_product_code':'rpc','user_id':'username'}, inplace=True)\n",
    "#ti_tmall.drop(['#comments'], axis=1, inplace=True)\n",
    "ti_tmall['store'] = 'Tmall'\n",
    "ti_tmall = ti_tmall[ti_clm]\n",
    "ti_tmall.shape"
   ]
  },
  {
   "cell_type": "code",
   "execution_count": 76,
   "metadata": {},
   "outputs": [
    {
     "data": {
      "text/plain": [
       "(22350, 11)"
      ]
     },
     "execution_count": 76,
     "metadata": {},
     "output_type": "execute_result"
    }
   ],
   "source": [
    "#ti_tmall.drop(['source_path'], axis=1, inplace= True)\n",
    "ti_jd.rename(columns={'review_image':'image_url','#comments':'review_image','harvest_product_description':'product_description','retailer_product_code':'rpc','user_id':'username'}, inplace=True)\n",
    "ti_jd['store'] = 'JD'\n",
    "ti_jd = ti_jd[ti_clm]\n",
    "ti_jd.shape"
   ]
  },
  {
   "cell_type": "code",
   "execution_count": 78,
   "metadata": {},
   "outputs": [
    {
     "data": {
      "text/plain": [
       "(4785, 11)"
      ]
     },
     "execution_count": 78,
     "metadata": {},
     "output_type": "execute_result"
    }
   ],
   "source": [
    "ti_suning.rename(columns={'review_image':'image_url','harvest_product_description':'product_description','retailer_product_code':'rpc','user_id':'username'}, inplace=True)\n",
    "#ti_suning.drop(['#comments'], axis=1, inplace=True)\n",
    "ti_suning['store'] = 'Suning'\n",
    "ti_suning = ti_suning[ti_clm]\n",
    "ti_suning.shape"
   ]
  },
  {
   "cell_type": "code",
   "execution_count": 82,
   "metadata": {},
   "outputs": [
    {
     "data": {
      "text/plain": [
       "(32746, 11)"
      ]
     },
     "execution_count": 82,
     "metadata": {},
     "output_type": "execute_result"
    }
   ],
   "source": [
    "ti_mar = pd.concat([ti_jd, ti_tmall, ti_suning])\n",
    "ti_mar.shape"
   ]
  },
  {
   "cell_type": "code",
   "execution_count": 161,
   "metadata": {},
   "outputs": [
    {
     "data": {
      "text/plain": [
       "store\n",
       "JD        22350\n",
       "Suning     4785\n",
       "Tmall      5611\n",
       "dtype: int64"
      ]
     },
     "execution_count": 161,
     "metadata": {},
     "output_type": "execute_result"
    }
   ],
   "source": [
    "ti_mar.groupby('store').size()"
   ]
  },
  {
   "cell_type": "markdown",
   "metadata": {},
   "source": [
    "### Merge local data and fix headers"
   ]
  },
  {
   "cell_type": "code",
   "execution_count": 97,
   "metadata": {},
   "outputs": [],
   "source": [
    "local_clm = ['store',\n",
    "  'url',\n",
    " 'rpc',\n",
    " 'product_description',\n",
    " 'review_id',\n",
    " 'review_date',\n",
    " 'username',\n",
    " 'review_text',\n",
    " 'review_rating',\n",
    " 'variant_1',\n",
    " 'variant_2']"
   ]
  },
  {
   "cell_type": "code",
   "execution_count": 127,
   "metadata": {},
   "outputs": [
    {
     "data": {
      "text/plain": [
       "Index(['store', 'sub_store', 'url', 'rpc', 'title', 'review_id',\n",
       "       'creation_date', 'username', 'review_text', 'review_rating',\n",
       "       'variant_1', 'variant_2', 'device', 'job_id', 'download_time'],\n",
       "      dtype='object')"
      ]
     },
     "execution_count": 127,
     "metadata": {},
     "output_type": "execute_result"
    }
   ],
   "source": [
    "local_1 = pd.read_csv('mar_quarterly_raw_data/local_Nestle.reviews.adhoc.F180301T180318.xlsx.csv', sep=',', encoding='utf-8')\n",
    "local_1.columns"
   ]
  },
  {
   "cell_type": "code",
   "execution_count": 128,
   "metadata": {},
   "outputs": [
    {
     "data": {
      "text/plain": [
       "(32541, 11)"
      ]
     },
     "execution_count": 128,
     "metadata": {},
     "output_type": "execute_result"
    }
   ],
   "source": [
    "local_2 = pd.read_csv('mar_quarterly_raw_data/local_Nestle.reviews.adhoc.F180319T180331.2018_0411_1610.xlsx.csv')\n",
    "local = pd.concat([local_1, local_2])\n",
    "local.rename(columns={'title':'product_description', 'creation_date':'review_date'}, inplace= True)\n",
    "local_mar = local[local_clm]\n",
    "local_mar.shape"
   ]
  },
  {
   "cell_type": "code",
   "execution_count": 160,
   "metadata": {},
   "outputs": [
    {
     "data": {
      "text/plain": [
       "store\n",
       "JD       19846\n",
       "Tmall    12695\n",
       "dtype: int64"
      ]
     },
     "execution_count": 160,
     "metadata": {},
     "output_type": "execute_result"
    }
   ],
   "source": [
    "local_mar.groupby('store').size()"
   ]
  },
  {
   "cell_type": "markdown",
   "metadata": {},
   "source": [
    "### concate all data together"
   ]
  },
  {
   "cell_type": "code",
   "execution_count": 156,
   "metadata": {},
   "outputs": [
    {
     "data": {
      "text/plain": [
       "(40090, 13)"
      ]
     },
     "execution_count": 156,
     "metadata": {},
     "output_type": "execute_result"
    }
   ],
   "source": [
    "concat = pd.concat([ti_mar[ti_mar['store'] != 'Suning'],local_mar]).drop_duplicates(subset = ['review_id'],keep = 'first')\n",
    "concat.shape"
   ]
  },
  {
   "cell_type": "code",
   "execution_count": 158,
   "metadata": {},
   "outputs": [
    {
     "data": {
      "text/plain": [
       "store\n",
       "JD       27393\n",
       "Tmall    12697\n",
       "dtype: int64"
      ]
     },
     "execution_count": 158,
     "metadata": {},
     "output_type": "execute_result"
    }
   ],
   "source": [
    "concat.groupby('store').size()"
   ]
  },
  {
   "cell_type": "code",
   "execution_count": 159,
   "metadata": {},
   "outputs": [
    {
     "data": {
      "text/plain": [
       "store\n",
       "JD        27393\n",
       "Suning     4785\n",
       "Tmall     12697\n",
       "dtype: int64"
      ]
     },
     "execution_count": 159,
     "metadata": {},
     "output_type": "execute_result"
    }
   ],
   "source": [
    "all_data = pd.concat([concat, ti_mar[ti_mar['store'] == 'Suning']])\n",
    "all_data.groupby('store').size()\n"
   ]
  },
  {
   "cell_type": "code",
   "execution_count": 166,
   "metadata": {},
   "outputs": [
    {
     "data": {
      "text/plain": [
       "(44875, 13)"
      ]
     },
     "execution_count": 166,
     "metadata": {},
     "output_type": "execute_result"
    }
   ],
   "source": [
    "all_data.shape"
   ]
  },
  {
   "cell_type": "markdown",
   "metadata": {},
   "source": [
    "### Mapping with sub_store"
   ]
  },
  {
   "cell_type": "code",
   "execution_count": 164,
   "metadata": {},
   "outputs": [],
   "source": [
    "mapping = pd.read_excel('store_url_mapping.xlsx')\n",
    "\n",
    "mapping['rpc'] = mapping['rpc'].astype(str)\n",
    "all_data['rpc'] = all_data['rpc'].astype(str)\n",
    "\n",
    "mapping.rename(columns={'Store':'store'}, inplace=True)\n"
   ]
  },
  {
   "cell_type": "code",
   "execution_count": 165,
   "metadata": {},
   "outputs": [
    {
     "data": {
      "text/plain": [
       "(44875, 18)"
      ]
     },
     "execution_count": 165,
     "metadata": {},
     "output_type": "execute_result"
    }
   ],
   "source": [
    "#all_mapped = all_data.loc[all_data['rpc'].isin(mapping['rpc']) * all_data['store'].isin(mapping['store'])]\n",
    "all_data_merge = pd.merge(all_data, mapping, on = ['rpc'])\n",
    "all_data_merge.shape"
   ]
  },
  {
   "cell_type": "code",
   "execution_count": 196,
   "metadata": {},
   "outputs": [
    {
     "data": {
      "text/plain": [
       "Gerber    1842\n",
       "MAM       1190\n",
       "Name: brand, dtype: int64"
      ]
     },
     "execution_count": 196,
     "metadata": {},
     "output_type": "execute_result"
    }
   ],
   "source": [
    "def get_stage(title):\n",
    "    stage = title[title.find(\"段\")-1:title.find(\"段\")+1]\n",
    "    if stage == \"阶段\":\n",
    "        stage = title[title.find(\"段\")-2] +\"段\"\n",
    "        \n",
    "    if stage == '一段':\n",
    "        return '1段'\n",
    "    elif stage == '二段':\n",
    "        return '2段'\n",
    "    elif stage == '三段':\n",
    "        return '3段'\n",
    "    elif stage == '四段':\n",
    "        return '4段'\n",
    "    else:\n",
    "        return stage\n",
    "\n",
    "all_data_merge['stage'] = all_data_merge['product_description'].map(get_stage)\n",
    "all_data_merge.groupby('stage').size()\n",
    "#all_data_merge.shape\n",
    "all_data_merge[all_data_merge['stage'] == \"\"]['brand'].value_counts()"
   ]
  },
  {
   "cell_type": "code",
   "execution_count": 197,
   "metadata": {
    "scrolled": false
   },
   "outputs": [
    {
     "data": {
      "text/plain": [
       "Index(['store', 'substore', 'brand', 'stage', 'url', 'rpc',\n",
       "       'product_description', 'review_id', 'review_date', 'username',\n",
       "       'review_text', 'review_rating', 'variant_1', 'variant_2', 'variants',\n",
       "       'image_url'],\n",
       "      dtype='object')"
      ]
     },
     "execution_count": 197,
     "metadata": {},
     "output_type": "execute_result"
    }
   ],
   "source": [
    "all_data_merge.columns"
   ]
  },
  {
   "cell_type": "code",
   "execution_count": 173,
   "metadata": {
    "collapsed": true
   },
   "outputs": [],
   "source": [
    "clm = ['store_x', 'Sub_store', 'Brand','stage', 'url_x', 'rpc', 'product_description',\n",
    "       'review_id', 'review_date', 'username', 'review_text', 'review_rating',\n",
    "       'variant_1', 'variant_2','variants','image_url']"
   ]
  },
  {
   "cell_type": "code",
   "execution_count": 179,
   "metadata": {},
   "outputs": [
    {
     "data": {
      "text/plain": [
       "Index(['store', 'substore', 'brand', 'stage', 'url', 'rpc',\n",
       "       'product_description', 'review_id', 'review_date', 'username',\n",
       "       'review_text', 'review_rating', 'variant_1', 'variant_2', 'variants',\n",
       "       'image_url'],\n",
       "      dtype='object')"
      ]
     },
     "execution_count": 179,
     "metadata": {},
     "output_type": "execute_result"
    }
   ],
   "source": [
    "all_data_merge = all_data_merge[clm]\n",
    "all_data_merge.rename(columns={'store_x':'store','Sub_store':'substore','Brand':'brand', 'url_x':'url'}, inplace=True)\n",
    "all_data_merge.columns"
   ]
  },
  {
   "cell_type": "code",
   "execution_count": 198,
   "metadata": {},
   "outputs": [
    {
     "data": {
      "text/plain": [
       "substore\n",
       "gerber嘉宝旗舰店     5998\n",
       "嘉宝京东自营旗舰店      14630\n",
       "嘉宝官方旗舰店         1144\n",
       "天猫苏宁旗舰店         1185\n",
       "天猫超市            4460\n",
       "雀巢官方专卖店         1501\n",
       "雀巢母婴京东自营旗舰店    11039\n",
       "雀巢母婴官方旗舰店        767\n",
       "雀巢母婴自营旗舰店       2488\n",
       "dtype: int64"
      ]
     },
     "execution_count": 198,
     "metadata": {},
     "output_type": "execute_result"
    }
   ],
   "source": [
    "all_data_merge.groupby('substore').size()"
   ]
  },
  {
   "cell_type": "markdown",
   "metadata": {},
   "source": [
    "### Fix text and username"
   ]
  },
  {
   "cell_type": "code",
   "execution_count": 181,
   "metadata": {
    "collapsed": true
   },
   "outputs": [],
   "source": [
    "def fix_text(row):\n",
    "    review_text = str(row[\"review_text\"]).strip()\n",
    "    review_text = review_text.replace(\"\\\\\", \"\")\n",
    "    review_text = review_text.replace(\"\\n\", \"\")\n",
    "    review_text = review_text.replace(\"\\t\", \"\")\n",
    "    review_text = review_text.replace(\"\\r\", \"\")\n",
    "    review_text = review_text.replace(\"\\\\\", \"\")\n",
    "    review_text = review_text.replace(\"\\\"\", \"\")\n",
    "    review_text = review_text.replace(\"\\'\", \"\")\n",
    "    review_text = review_text.replace(\",\", \"，\")\n",
    "    review_text = review_text.replace(\"*\", \"\")\n",
    "    review_text = review_text.replace(\"&gt;\", \"\")\n",
    "    review_text = review_text.replace(\"&lt;\", \"\")\n",
    "    review_text = review_text.replace(\"&hellip;\", \"\")\n",
    "    review_text = review_text.replace(\"&ldquo;\", \"\")\n",
    "    review_text = review_text.replace(\"&rdquo;\", \"\")\n",
    "    review_text = review_text.replace(\"&nbsp;\", \"\")\n",
    "    review_text = review_text.replace(\"&sub;\", \"\")\n",
    "    review_text = review_text.replace(\"&omega;\", \"\")\n",
    "    review_text = review_text.replace(\"&acute;\", \"\")\n",
    "    review_text = review_text.replace(\"&cap;\", \"\")\n",
    "    review_text = review_text.replace(\"&Sigma;\", \"\")\n",
    "    review_text = review_text.replace(\"&yuml;\", \"\")\n",
    "    review_text = review_text.replace(\"&zwnj;\", \"\")\n",
    "    review_text = review_text.replace(\";\", \"；\")\n",
    "    return review_text\n",
    "\n",
    "def fix_name(row):\n",
    "    review_text = str(row[\"username\"]).strip()\n",
    "    review_text = review_text.replace(\"\\\\\", \"\")\n",
    "    review_text = review_text.replace(\"\\n\", \"\")\n",
    "    review_text = review_text.replace(\"\\t\", \"\")\n",
    "    review_text = review_text.replace(\"\\r\", \"\")\n",
    "    review_text = review_text.replace(\"\\\\\", \"\")\n",
    "    review_text = review_text.replace(\"\\\"\", \"\")\n",
    "    review_text = review_text.replace(\"\\'\", \"\")\n",
    "    review_text = review_text.replace(\",\", \"，\")\n",
    "    review_text = review_text.replace(\"*\", \"\")\n",
    "    review_text = review_text.replace(\"&gt;\", \"\")\n",
    "    review_text = review_text.replace(\"&lt;\", \"\")\n",
    "    review_text = review_text.replace(\"&hellip;\", \"\")\n",
    "    review_text = review_text.replace(\"&ldquo;\", \"\")\n",
    "    review_text = review_text.replace(\"&rdquo;\", \"\")\n",
    "    review_text = review_text.replace(\"&nbsp;\", \"\")\n",
    "    review_text = review_text.replace(\"&sub;\", \"\")\n",
    "    review_text = review_text.replace(\"&omega;\", \"\")\n",
    "    review_text = review_text.replace(\"&acute;\", \"\")\n",
    "    review_text = review_text.replace(\"&cap;\", \"\")\n",
    "    review_text = review_text.replace(\"&Sigma;\", \"\")\n",
    "    review_text = review_text.replace(\"&yuml;\", \"\")\n",
    "    review_text = review_text.replace(\"&zwnj;\", \"\")\n",
    "    review_text = review_text.replace(\";\", \"；\")\n",
    "    return review_text"
   ]
  },
  {
   "cell_type": "code",
   "execution_count": 199,
   "metadata": {},
   "outputs": [
    {
     "data": {
      "text/plain": [
       "(43212, 16)"
      ]
     },
     "execution_count": 199,
     "metadata": {},
     "output_type": "execute_result"
    }
   ],
   "source": [
    "all_data_merge['review_text'] = all_data_merge.apply(fix_text,axis=1)\n",
    "all_data_merge['username'] = all_data_merge.apply(fix_name,axis=1)\n",
    "all_data_merge.shape"
   ]
  },
  {
   "cell_type": "code",
   "execution_count": 200,
   "metadata": {},
   "outputs": [
    {
     "name": "stderr",
     "output_type": "stream",
     "text": [
      "C:\\Program Files\\Anaconda\\lib\\site-packages\\pandas\\core\\computation\\expressions.py:183: UserWarning: evaluating in Python space because the '-' operator is not supported by numexpr for the bool dtype, use '^' instead\n",
      "  unsupported[op_str]))\n"
     ]
    },
    {
     "data": {
      "text/plain": [
       "(43212, 16)"
      ]
     },
     "execution_count": 200,
     "metadata": {},
     "output_type": "execute_result"
    }
   ],
   "source": [
    "#删除其中的'系统默认好评', '此用户未填写评价内容'\n",
    "all_data_merge= all_data_merge[True - all_data_merge['review_text'].str.contains('系统默认好评')]\n",
    "all_data_merge= all_data_merge[True - all_data_merge['review_text'].str.contains('此用户')]\n",
    "all_data_merge.shape"
   ]
  },
  {
   "cell_type": "code",
   "execution_count": 201,
   "metadata": {},
   "outputs": [
    {
     "data": {
      "text/plain": [
       "brand\n",
       "Gerber    25135\n",
       "MAM        1190\n",
       "NAN       10829\n",
       "NAN HA     6058\n",
       "dtype: int64"
      ]
     },
     "execution_count": 201,
     "metadata": {},
     "output_type": "execute_result"
    }
   ],
   "source": [
    "all_data_merge.groupby('brand').size()"
   ]
  },
  {
   "cell_type": "code",
   "execution_count": 187,
   "metadata": {
    "collapsed": true
   },
   "outputs": [],
   "source": [
    "all_data_merge.to_csv('Nestle_normal_march.csv', index=False, sep=',', encoding='utf-8')"
   ]
  },
  {
   "cell_type": "markdown",
   "metadata": {},
   "source": [
    "### Randomly take sample"
   ]
  },
  {
   "cell_type": "code",
   "execution_count": 206,
   "metadata": {},
   "outputs": [],
   "source": [
    "import random\n",
    "\n",
    "sample = all_data_merge.sample(n = 1000, replace=True)\n",
    "sample.to_csv('Nestle_sample_March.csv', index = False, sep = ',', encoding = 'utf-8')"
   ]
  }
 ],
 "metadata": {
  "kernelspec": {
   "display_name": "Python 3",
   "language": "python",
   "name": "python3"
  },
  "language_info": {
   "codemirror_mode": {
    "name": "ipython",
    "version": 3
   },
   "file_extension": ".py",
   "mimetype": "text/x-python",
   "name": "python",
   "nbconvert_exporter": "python",
   "pygments_lexer": "ipython3",
   "version": "3.6.3"
  }
 },
 "nbformat": 4,
 "nbformat_minor": 2
}

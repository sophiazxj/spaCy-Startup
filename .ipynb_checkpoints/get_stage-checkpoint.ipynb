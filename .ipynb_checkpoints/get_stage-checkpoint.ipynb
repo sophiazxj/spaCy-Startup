{
 "cells": [
  {
   "cell_type": "markdown",
   "metadata": {},
   "source": [
    "### 抽取特定字段 \n",
    "字符串操作\n",
    "\n"
   ]
  },
  {
   "cell_type": "code",
   "execution_count": 21,
   "metadata": {},
   "outputs": [
    {
     "data": {
      "text/plain": [
       "'2阶段'"
      ]
     },
     "execution_count": 21,
     "metadata": {},
     "output_type": "execute_result"
    }
   ],
   "source": [
    "def get_stage(s):\n",
    "    idx = None\n",
    "    if s.find('阶段') == -1:\n",
    "        idx = s.find('段')\n",
    "        return s[(idx-1):(idx+1)]\n",
    "    else:\n",
    "        idx = s.find('阶段')\n",
    "        return s[(idx-1):(idx+2)]\n"
   ]
  },
  {
   "cell_type": "code",
   "execution_count": 23,
   "metadata": {},
   "outputs": [
    {
     "data": {
      "text/html": [
       "<div>\n",
       "<style>\n",
       "    .dataframe thead tr:only-child th {\n",
       "        text-align: right;\n",
       "    }\n",
       "\n",
       "    .dataframe thead th {\n",
       "        text-align: left;\n",
       "    }\n",
       "\n",
       "    .dataframe tbody tr th {\n",
       "        vertical-align: top;\n",
       "    }\n",
       "</style>\n",
       "<table border=\"1\" class=\"dataframe\">\n",
       "  <thead>\n",
       "    <tr style=\"text-align: right;\">\n",
       "      <th></th>\n",
       "      <th>product_description</th>\n",
       "    </tr>\n",
       "  </thead>\n",
       "  <tbody>\n",
       "    <tr>\n",
       "      <th>0</th>\n",
       "      <td>嘉宝(Gerber ) 胡萝卜营养米粉一段(辅食添加初期) 225g</td>\n",
       "    </tr>\n",
       "    <tr>\n",
       "      <th>1</th>\n",
       "      <td>嘉宝(Gerber ) 胡萝卜营养米粉一段(辅食添加初期) 225g</td>\n",
       "    </tr>\n",
       "    <tr>\n",
       "      <th>2</th>\n",
       "      <td>嘉宝(Gerber ) 胡萝卜营养米粉一段(辅食添加初期) 225g</td>\n",
       "    </tr>\n",
       "    <tr>\n",
       "      <th>3</th>\n",
       "      <td>嘉宝(Gerber ) 胡萝卜营养米粉一段(辅食添加初期) 225g</td>\n",
       "    </tr>\n",
       "    <tr>\n",
       "      <th>4</th>\n",
       "      <td>嘉宝(Gerber ) 胡萝卜营养米粉一段(辅食添加初期) 225g</td>\n",
       "    </tr>\n",
       "  </tbody>\n",
       "</table>\n",
       "</div>"
      ],
      "text/plain": [
       "                  product_description\n",
       "0  嘉宝(Gerber ) 胡萝卜营养米粉一段(辅食添加初期) 225g\n",
       "1  嘉宝(Gerber ) 胡萝卜营养米粉一段(辅食添加初期) 225g\n",
       "2  嘉宝(Gerber ) 胡萝卜营养米粉一段(辅食添加初期) 225g\n",
       "3  嘉宝(Gerber ) 胡萝卜营养米粉一段(辅食添加初期) 225g\n",
       "4  嘉宝(Gerber ) 胡萝卜营养米粉一段(辅食添加初期) 225g"
      ]
     },
     "execution_count": 23,
     "metadata": {},
     "output_type": "execute_result"
    }
   ],
   "source": [
    "import pandas as pd\n",
    "data = pd.read_excel('get_stage.xlsx')\n",
    "data.head()"
   ]
  },
  {
   "cell_type": "code",
   "execution_count": 29,
   "metadata": {},
   "outputs": [
    {
     "data": {
      "text/html": [
       "<div>\n",
       "<style>\n",
       "    .dataframe thead tr:only-child th {\n",
       "        text-align: right;\n",
       "    }\n",
       "\n",
       "    .dataframe thead th {\n",
       "        text-align: left;\n",
       "    }\n",
       "\n",
       "    .dataframe tbody tr th {\n",
       "        vertical-align: top;\n",
       "    }\n",
       "</style>\n",
       "<table border=\"1\" class=\"dataframe\">\n",
       "  <thead>\n",
       "    <tr style=\"text-align: right;\">\n",
       "      <th></th>\n",
       "      <th>product_description</th>\n",
       "      <th>stage</th>\n",
       "    </tr>\n",
       "  </thead>\n",
       "  <tbody>\n",
       "    <tr>\n",
       "      <th>0</th>\n",
       "      <td>嘉宝(Gerber ) 胡萝卜营养米粉一段(辅食添加初期) 225g</td>\n",
       "      <td>一段</td>\n",
       "    </tr>\n",
       "    <tr>\n",
       "      <th>1</th>\n",
       "      <td>嘉宝(Gerber ) 胡萝卜营养米粉一段(辅食添加初期) 225g</td>\n",
       "      <td>一段</td>\n",
       "    </tr>\n",
       "    <tr>\n",
       "      <th>2</th>\n",
       "      <td>嘉宝(Gerber ) 胡萝卜营养米粉一段(辅食添加初期) 225g</td>\n",
       "      <td>一段</td>\n",
       "    </tr>\n",
       "    <tr>\n",
       "      <th>3</th>\n",
       "      <td>嘉宝(Gerber ) 胡萝卜营养米粉一段(辅食添加初期) 225g</td>\n",
       "      <td>一段</td>\n",
       "    </tr>\n",
       "    <tr>\n",
       "      <th>4</th>\n",
       "      <td>嘉宝(Gerber ) 胡萝卜营养米粉一段(辅食添加初期) 225g</td>\n",
       "      <td>一段</td>\n",
       "    </tr>\n",
       "  </tbody>\n",
       "</table>\n",
       "</div>"
      ],
      "text/plain": [
       "                  product_description stage\n",
       "0  嘉宝(Gerber ) 胡萝卜营养米粉一段(辅食添加初期) 225g    一段\n",
       "1  嘉宝(Gerber ) 胡萝卜营养米粉一段(辅食添加初期) 225g    一段\n",
       "2  嘉宝(Gerber ) 胡萝卜营养米粉一段(辅食添加初期) 225g    一段\n",
       "3  嘉宝(Gerber ) 胡萝卜营养米粉一段(辅食添加初期) 225g    一段\n",
       "4  嘉宝(Gerber ) 胡萝卜营养米粉一段(辅食添加初期) 225g    一段"
      ]
     },
     "execution_count": 29,
     "metadata": {},
     "output_type": "execute_result"
    }
   ],
   "source": [
    "data['stage'] = data['product_description'].apply(get_stage)\n",
    "data.head()"
   ]
  }
 ],
 "metadata": {
  "kernelspec": {
   "display_name": "Python 3",
   "language": "python",
   "name": "python3"
  },
  "language_info": {
   "codemirror_mode": {
    "name": "ipython",
    "version": 3
   },
   "file_extension": ".py",
   "mimetype": "text/x-python",
   "name": "python",
   "nbconvert_exporter": "python",
   "pygments_lexer": "ipython3",
   "version": "3.6.3"
  }
 },
 "nbformat": 4,
 "nbformat_minor": 2
}

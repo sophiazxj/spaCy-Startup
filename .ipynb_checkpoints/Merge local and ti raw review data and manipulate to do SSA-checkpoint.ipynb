{
 "cells": [
  {
   "cell_type": "markdown",
   "metadata": {},
   "source": [
    "### Pandas 数据处理"
   ]
  },
  {
   "cell_type": "code",
   "execution_count": 135,
   "metadata": {
    "collapsed": true
   },
   "outputs": [],
   "source": [
    "import pandas as pd\n",
    "import numpy as np"
   ]
  },
  {
   "cell_type": "code",
   "execution_count": 3,
   "metadata": {},
   "outputs": [
    {
     "data": {
      "text/html": [
       "<div>\n",
       "<style>\n",
       "    .dataframe thead tr:only-child th {\n",
       "        text-align: right;\n",
       "    }\n",
       "\n",
       "    .dataframe thead th {\n",
       "        text-align: left;\n",
       "    }\n",
       "\n",
       "    .dataframe tbody tr th {\n",
       "        vertical-align: top;\n",
       "    }\n",
       "</style>\n",
       "<table border=\"1\" class=\"dataframe\">\n",
       "  <thead>\n",
       "    <tr style=\"text-align: right;\">\n",
       "      <th></th>\n",
       "      <th>Store</th>\n",
       "      <th>Sub_store</th>\n",
       "      <th>Store_url</th>\n",
       "      <th>Brand</th>\n",
       "      <th>url</th>\n",
       "      <th>rpc</th>\n",
       "    </tr>\n",
       "  </thead>\n",
       "  <tbody>\n",
       "    <tr>\n",
       "      <th>0</th>\n",
       "      <td>JD</td>\n",
       "      <td>雀巢母婴京东自营旗舰店</td>\n",
       "      <td>https://mall.jd.com/index-1000003112.html</td>\n",
       "      <td>NAN HA</td>\n",
       "      <td>https://item.jd.com/4396232.html</td>\n",
       "      <td>4396232</td>\n",
       "    </tr>\n",
       "    <tr>\n",
       "      <th>1</th>\n",
       "      <td>JD</td>\n",
       "      <td>雀巢母婴京东自营旗舰店</td>\n",
       "      <td>https://mall.jd.com/index-1000003112.html</td>\n",
       "      <td>NAN HA</td>\n",
       "      <td>https://item.jd.com/4396142.html</td>\n",
       "      <td>4396142</td>\n",
       "    </tr>\n",
       "    <tr>\n",
       "      <th>2</th>\n",
       "      <td>JD</td>\n",
       "      <td>雀巢母婴京东自营旗舰店</td>\n",
       "      <td>https://mall.jd.com/index-1000003112.html</td>\n",
       "      <td>NAN HA</td>\n",
       "      <td>https://item.jd.com/3849865.html</td>\n",
       "      <td>3849865</td>\n",
       "    </tr>\n",
       "    <tr>\n",
       "      <th>3</th>\n",
       "      <td>JD</td>\n",
       "      <td>雀巢母婴京东自营旗舰店</td>\n",
       "      <td>https://mall.jd.com/index-1000003112.html</td>\n",
       "      <td>NAN HA</td>\n",
       "      <td>https://item.jd.com/4209173.html</td>\n",
       "      <td>4209173</td>\n",
       "    </tr>\n",
       "    <tr>\n",
       "      <th>4</th>\n",
       "      <td>JD</td>\n",
       "      <td>雀巢母婴京东自营旗舰店</td>\n",
       "      <td>https://mall.jd.com/index-1000003112.html</td>\n",
       "      <td>NAN HA</td>\n",
       "      <td>https://item.jd.com/5285870.html</td>\n",
       "      <td>5285870</td>\n",
       "    </tr>\n",
       "  </tbody>\n",
       "</table>\n",
       "</div>"
      ],
      "text/plain": [
       "  Store    Sub_store                                  Store_url   Brand  \\\n",
       "0    JD  雀巢母婴京东自营旗舰店  https://mall.jd.com/index-1000003112.html  NAN HA   \n",
       "1    JD  雀巢母婴京东自营旗舰店  https://mall.jd.com/index-1000003112.html  NAN HA   \n",
       "2    JD  雀巢母婴京东自营旗舰店  https://mall.jd.com/index-1000003112.html  NAN HA   \n",
       "3    JD  雀巢母婴京东自营旗舰店  https://mall.jd.com/index-1000003112.html  NAN HA   \n",
       "4    JD  雀巢母婴京东自营旗舰店  https://mall.jd.com/index-1000003112.html  NAN HA   \n",
       "\n",
       "                                url      rpc  \n",
       "0  https://item.jd.com/4396232.html  4396232  \n",
       "1  https://item.jd.com/4396142.html  4396142  \n",
       "2  https://item.jd.com/3849865.html  3849865  \n",
       "3  https://item.jd.com/4209173.html  4209173  \n",
       "4  https://item.jd.com/5285870.html  5285870  "
      ]
     },
     "execution_count": 3,
     "metadata": {},
     "output_type": "execute_result"
    }
   ],
   "source": [
    "local = pd.read_csv('local_nestle_Jan.csv', encoding= 'utf-8')\n",
    "ti = pd.read_csv('ti_nestle_Jan.csv',encoding= 'utf-8')\n",
    "mapping = pd.read_excel('store_url_mapping.xlsx')\n",
    "\n",
    "ti['username'] = np.NAN\n",
    "ti['variant_1'] = np.NAN\n",
    "ti['variant_2'] = np.NAN\n",
    "ti['review_id'] = np.NAN\n",
    "\n",
    "local.rename(columns={'store':'Store','retailer_product_code':'rpc','harvest_product_description':'product_description', 'creation_date':'review_date'},inplace=True)\n",
    "ti.rename(columns={'store':'Store','retailer_product_code':'rpc','harvest_product_description':'product_description'}, inplace=True)\n",
    "\n",
    "mapping['rpc'] = mapping['rpc'].astype(str)\n",
    "local['rpc'] = local['rpc'].astype(str)\n",
    "ti['rpc'] = ti['rpc'].astype(str)\n",
    "\n",
    "mapping.head()"
   ]
  },
  {
   "cell_type": "code",
   "execution_count": 4,
   "metadata": {},
   "outputs": [
    {
     "data": {
      "text/plain": [
       "Tmall     205\n",
       "JD        126\n",
       "Suning     33\n",
       "Name: Store, dtype: int64"
      ]
     },
     "execution_count": 4,
     "metadata": {},
     "output_type": "execute_result"
    }
   ],
   "source": [
    "mapping['Store'].value_counts()"
   ]
  },
  {
   "cell_type": "code",
   "execution_count": 5,
   "metadata": {},
   "outputs": [
    {
     "name": "stdout",
     "output_type": "stream",
     "text": [
      "(13755, 12) (5838, 17)\n"
     ]
    },
    {
     "name": "stderr",
     "output_type": "stream",
     "text": [
      "C:\\Program Files\\Anaconda\\lib\\site-packages\\pandas\\core\\computation\\expressions.py:183: UserWarning: evaluating in Python space because the '*' operator is not supported by numexpr for the bool dtype, use '&' instead\n",
      "  unsupported[op_str]))\n"
     ]
    }
   ],
   "source": [
    "local_mapped = local.loc[local['rpc'].isin(mapping['rpc']) * local['Store'].isin(mapping['Store'])]\n",
    "ti_mapped = ti.loc[ti['rpc'].isin(mapping['rpc']) * ti['Store'].isin(mapping['Store'])]\n",
    "print(local_mapped.shape, ti_mapped.shape)"
   ]
  },
  {
   "cell_type": "code",
   "execution_count": 6,
   "metadata": {},
   "outputs": [
    {
     "data": {
      "text/plain": [
       "Suning    5838\n",
       "Name: Store, dtype: int64"
      ]
     },
     "execution_count": 6,
     "metadata": {},
     "output_type": "execute_result"
    }
   ],
   "source": [
    "ti_mapped['Store'].value_counts()"
   ]
  },
  {
   "cell_type": "code",
   "execution_count": 7,
   "metadata": {},
   "outputs": [
    {
     "data": {
      "text/plain": [
       "((13755, 17), (5838, 22))"
      ]
     },
     "execution_count": 7,
     "metadata": {},
     "output_type": "execute_result"
    }
   ],
   "source": [
    "local_mapped_merge = pd.merge(local_mapped, mapping, on = ['rpc'])\n",
    "ti_mapped_merge = pd.merge(ti_mapped, mapping, on = ['rpc'])\n",
    "local_mapped_merge.shape, ti_mapped_merge.shape\n"
   ]
  },
  {
   "cell_type": "code",
   "execution_count": 47,
   "metadata": {},
   "outputs": [
    {
     "data": {
      "text/plain": [
       "['Store_x',\n",
       " 'Store_y',\n",
       " 'Sub_store',\n",
       " 'product_description',\n",
       " 'Brand',\n",
       " 'rpc',\n",
       " 'review_id',\n",
       " 'username',\n",
       " 'review_rating',\n",
       " 'variant_1',\n",
       " 'variant_2',\n",
       " 'url_x',\n",
       " 'url_y',\n",
       " 'review_date',\n",
       " 'review_text']"
      ]
     },
     "execution_count": 47,
     "metadata": {},
     "output_type": "execute_result"
    }
   ],
   "source": [
    "clm = ['Store_x','Store_y','Sub_store','product_description','Brand','rpc','review_id',\n",
    "       'username','review_rating','variant_1','variant_2','url_x','url_y',\n",
    "       'review_date',\n",
    "'review_text']\n",
    "clm"
   ]
  },
  {
   "cell_type": "code",
   "execution_count": 48,
   "metadata": {
    "collapsed": true
   },
   "outputs": [],
   "source": [
    "local_mapped_merge_out = local_mapped_merge[clm]\n",
    "ti_mapped_merge_out = ti_mapped_merge[clm]"
   ]
  },
  {
   "cell_type": "code",
   "execution_count": 49,
   "metadata": {},
   "outputs": [
    {
     "data": {
      "text/plain": [
       "array([ True,  True,  True,  True,  True,  True,  True,  True,  True,\n",
       "        True,  True,  True,  True,  True,  True], dtype=bool)"
      ]
     },
     "execution_count": 49,
     "metadata": {},
     "output_type": "execute_result"
    }
   ],
   "source": [
    "ti_mapped_merge_out.columns == local_mapped_merge_out.columns"
   ]
  },
  {
   "cell_type": "code",
   "execution_count": 50,
   "metadata": {},
   "outputs": [
    {
     "data": {
      "text/plain": [
       "(19593, 15)"
      ]
     },
     "execution_count": 50,
     "metadata": {},
     "output_type": "execute_result"
    }
   ],
   "source": [
    "nestle_jan_raw_review = pd.concat([ti_mapped_merge_out, local_mapped_merge_out])\n",
    "nestle_jan_raw_review.shape"
   ]
  },
  {
   "cell_type": "code",
   "execution_count": 51,
   "metadata": {
    "collapsed": true
   },
   "outputs": [],
   "source": [
    "def fix_text(row):\n",
    "    review_text = str(row[\"review_text\"]).strip()\n",
    "    review_text = review_text.replace(\"\\\\\", \"\")\n",
    "    review_text = review_text.replace(\"\\n\", \"\")\n",
    "    review_text = review_text.replace(\"\\t\", \"\")\n",
    "    review_text = review_text.replace(\"\\r\", \"\")\n",
    "    review_text = review_text.replace(\"\\\\\", \"\")\n",
    "    review_text = review_text.replace(\"\\\"\", \"\")\n",
    "    review_text = review_text.replace(\"\\'\", \"\")\n",
    "    review_text = review_text.replace(\",\", \"，\")\n",
    "    review_text = review_text.replace(\"*\", \"\")\n",
    "    review_text = review_text.replace(\"&gt;\", \"\")\n",
    "    review_text = review_text.replace(\"&lt;\", \"\")\n",
    "    review_text = review_text.replace(\"&hellip;\", \"\")\n",
    "    review_text = review_text.replace(\"&ldquo;\", \"\")\n",
    "    review_text = review_text.replace(\"&rdquo;\", \"\")\n",
    "    review_text = review_text.replace(\"&nbsp;\", \"\")\n",
    "    review_text = review_text.replace(\"&sub;\", \"\")\n",
    "    review_text = review_text.replace(\"&omega;\", \"\")\n",
    "    review_text = review_text.replace(\"&acute;\", \"\")\n",
    "    review_text = review_text.replace(\"&cap;\", \"\")\n",
    "    review_text = review_text.replace(\"&Sigma;\", \"\")\n",
    "    review_text = review_text.replace(\"&yuml;\", \"\")\n",
    "    review_text = review_text.replace(\"&zwnj;\", \"\")\n",
    "    review_text = review_text.replace(\";\", \"；\")\n",
    "    return review_text"
   ]
  },
  {
   "cell_type": "code",
   "execution_count": 123,
   "metadata": {
    "collapsed": true
   },
   "outputs": [],
   "source": [
    "def fix_name(row):\n",
    "    review_text = str(row[\"username\"]).strip()\n",
    "    review_text = review_text.replace(\"\\\\\", \"\")\n",
    "    review_text = review_text.replace(\"\\n\", \"\")\n",
    "    review_text = review_text.replace(\"\\t\", \"\")\n",
    "    review_text = review_text.replace(\"\\r\", \"\")\n",
    "    review_text = review_text.replace(\"\\\\\", \"\")\n",
    "    review_text = review_text.replace(\"\\\"\", \"\")\n",
    "    review_text = review_text.replace(\"\\'\", \"\")\n",
    "    review_text = review_text.replace(\",\", \"，\")\n",
    "    review_text = review_text.replace(\"*\", \"\")\n",
    "    review_text = review_text.replace(\"&gt;\", \"\")\n",
    "    review_text = review_text.replace(\"&lt;\", \"\")\n",
    "    review_text = review_text.replace(\"&hellip;\", \"\")\n",
    "    review_text = review_text.replace(\"&ldquo;\", \"\")\n",
    "    review_text = review_text.replace(\"&rdquo;\", \"\")\n",
    "    review_text = review_text.replace(\"&nbsp;\", \"\")\n",
    "    review_text = review_text.replace(\"&sub;\", \"\")\n",
    "    review_text = review_text.replace(\"&omega;\", \"\")\n",
    "    review_text = review_text.replace(\"&acute;\", \"\")\n",
    "    review_text = review_text.replace(\"&cap;\", \"\")\n",
    "    review_text = review_text.replace(\"&Sigma;\", \"\")\n",
    "    review_text = review_text.replace(\"&yuml;\", \"\")\n",
    "    review_text = review_text.replace(\"&zwnj;\", \"\")\n",
    "    review_text = review_text.replace(\";\", \"；\")\n",
    "    return review_text"
   ]
  },
  {
   "cell_type": "code",
   "execution_count": 52,
   "metadata": {
    "collapsed": true
   },
   "outputs": [],
   "source": [
    "nestle_jan_raw_review['review_text'] = nestle_jan_raw_review.apply(fix_text,axis=1)"
   ]
  },
  {
   "cell_type": "code",
   "execution_count": 53,
   "metadata": {},
   "outputs": [
    {
     "data": {
      "text/plain": [
       "Index(['Store_x', 'Store_y', 'Sub_store', 'product_description', 'Brand',\n",
       "       'rpc', 'review_id', 'username', 'review_rating', 'variant_1',\n",
       "       'variant_2', 'url_x', 'url_y', 'review_date', 'review_text'],\n",
       "      dtype='object')"
      ]
     },
     "execution_count": 53,
     "metadata": {},
     "output_type": "execute_result"
    }
   ],
   "source": [
    "nestle_jan_raw_review.columns"
   ]
  },
  {
   "cell_type": "code",
   "execution_count": 54,
   "metadata": {},
   "outputs": [
    {
     "data": {
      "text/plain": [
       "(19593, 15)"
      ]
     },
     "execution_count": 54,
     "metadata": {},
     "output_type": "execute_result"
    }
   ],
   "source": [
    "nestle_jan_raw_review.shape"
   ]
  },
  {
   "cell_type": "code",
   "execution_count": 55,
   "metadata": {},
   "outputs": [
    {
     "name": "stderr",
     "output_type": "stream",
     "text": [
      "C:\\Program Files\\Anaconda\\lib\\site-packages\\pandas\\core\\computation\\expressions.py:183: UserWarning: evaluating in Python space because the '-' operator is not supported by numexpr for the bool dtype, use '^' instead\n",
      "  unsupported[op_str]))\n"
     ]
    },
    {
     "data": {
      "text/plain": [
       "(17891, 15)"
      ]
     },
     "execution_count": 55,
     "metadata": {},
     "output_type": "execute_result"
    }
   ],
   "source": [
    "#删除其中的'系统默认好评', '此用户未填写评价内容'\n",
    "nestle_jan_raw_review= nestle_jan_raw_review[True - nestle_jan_raw_review['review_text'].str.contains('系统默认好评')]\n",
    "nestle_jan_raw_review= nestle_jan_raw_review[True - nestle_jan_raw_review['review_text'].str.contains('此用户未填写评价内容')]\n",
    "nestle_jan_raw_review.shape"
   ]
  },
  {
   "cell_type": "code",
   "execution_count": 56,
   "metadata": {},
   "outputs": [
    {
     "data": {
      "text/plain": [
       "JD        7934\n",
       "Tmall     5630\n",
       "Suning    4327\n",
       "Name: Store, dtype: int64"
      ]
     },
     "execution_count": 56,
     "metadata": {},
     "output_type": "execute_result"
    }
   ],
   "source": [
    "del nestle_jan_raw_review['Store_y']\n",
    "del nestle_jan_raw_review['url_y']\n",
    "nestle_jan_raw_review.rename(columns={'Store_x':'Store','url_x':'url'}, inplace=True)\n",
    "\n",
    "nestle_jan_raw_review.columns\n",
    "nestle_jan_raw_review['Store'].value_counts()"
   ]
  },
  {
   "cell_type": "code",
   "execution_count": 17,
   "metadata": {
    "collapsed": true
   },
   "outputs": [],
   "source": [
    "nestle_feb_1 = nestle_jan_raw_review[nestle_jan_raw_review['review_date'].str.contains('2018-02-')]\n",
    "# nestle_feb_1.to_csv('nestle_feb_1.csv', index= False, encoding= 'utf-8')"
   ]
  },
  {
   "cell_type": "code",
   "execution_count": 18,
   "metadata": {},
   "outputs": [
    {
     "name": "stderr",
     "output_type": "stream",
     "text": [
      "C:\\Program Files\\Anaconda\\lib\\site-packages\\pandas\\core\\computation\\expressions.py:183: UserWarning: evaluating in Python space because the '-' operator is not supported by numexpr for the bool dtype, use '^' instead\n",
      "  unsupported[op_str]))\n"
     ]
    },
    {
     "data": {
      "text/plain": [
       "Gerber    8854\n",
       "NAN       5745\n",
       "NAN HA    2082\n",
       "MAM         28\n",
       "Name: Brand, dtype: int64"
      ]
     },
     "execution_count": 18,
     "metadata": {},
     "output_type": "execute_result"
    }
   ],
   "source": [
    "nestle_jan_raw_review = nestle_jan_raw_review[True - nestle_jan_raw_review['review_date'].str.contains('2018-02-')]\n",
    "nestle_jan_raw_review['Brand'].value_counts()"
   ]
  },
  {
   "cell_type": "code",
   "execution_count": 19,
   "metadata": {
    "collapsed": true
   },
   "outputs": [],
   "source": [
    "# 写出文件(已经将local和ti两部分数据源合并)\n",
    "\n",
    "nestle_jan_raw_review.to_csv('nestle_jan_raw_review.csv', index=False, encoding='utf-8')"
   ]
  },
  {
   "cell_type": "markdown",
   "metadata": {},
   "source": [
    "### Review of Feb.\n"
   ]
  },
  {
   "cell_type": "code",
   "execution_count": 57,
   "metadata": {
    "collapsed": true
   },
   "outputs": [],
   "source": [
    "local_feb = pd.read_csv('local_nestle_feb.xlsx.csv', encoding='utf-8')\n",
    "ti_feb = pd.read_csv('ti_nestle_feb.csv', encoding= 'utf -8')"
   ]
  },
  {
   "cell_type": "code",
   "execution_count": 58,
   "metadata": {},
   "outputs": [
    {
     "data": {
      "text/plain": [
       "((33449, 15), (23113, 13))"
      ]
     },
     "execution_count": 58,
     "metadata": {},
     "output_type": "execute_result"
    }
   ],
   "source": [
    "local_feb.shape, ti_feb.shape"
   ]
  },
  {
   "cell_type": "code",
   "execution_count": 25,
   "metadata": {
    "collapsed": true
   },
   "outputs": [],
   "source": [
    "# nestle_feb_1.shape"
   ]
  },
  {
   "cell_type": "code",
   "execution_count": 59,
   "metadata": {
    "collapsed": true
   },
   "outputs": [],
   "source": [
    "\n",
    "ti_feb['username'] = np.NAN\n",
    "ti_feb['variant_1'] = np.NAN\n",
    "ti_feb['variant_2'] = np.NAN\n",
    "ti_feb['review_id'] = np.NAN\n",
    "\n",
    "local_feb.rename(columns={'store':'Store','retailer_product_code':'rpc','title':'product_description', 'creation_date':'review_date'},inplace=True)\n",
    "ti_feb.rename(columns={'store':'Store','retailer_product_code':'rpc','harvest_product_description':'product_description'}, inplace=True)\n",
    "\n",
    "mapping['rpc'] = mapping['rpc'].astype(str)\n",
    "local_feb['rpc'] = local_feb['rpc'].astype(str)\n",
    "ti_feb['rpc'] = ti_feb['rpc'].astype(str)\n"
   ]
  },
  {
   "cell_type": "code",
   "execution_count": 60,
   "metadata": {},
   "outputs": [
    {
     "name": "stderr",
     "output_type": "stream",
     "text": [
      "C:\\Program Files\\Anaconda\\lib\\site-packages\\pandas\\core\\computation\\expressions.py:183: UserWarning: evaluating in Python space because the '*' operator is not supported by numexpr for the bool dtype, use '&' instead\n",
      "  unsupported[op_str]))\n"
     ]
    },
    {
     "data": {
      "text/plain": [
       "((19410, 15), (2364, 17))"
      ]
     },
     "execution_count": 60,
     "metadata": {},
     "output_type": "execute_result"
    }
   ],
   "source": [
    "local_feb_mapped = local_feb.loc[local_feb['rpc'].isin(mapping['rpc'])]\n",
    "ti_feb_mapped = ti_feb.loc[ti_feb['rpc'].isin(mapping['rpc']) * ti_feb['Store'].isin(mapping['Store'])]\n",
    "local_feb_mapped.shape, ti_feb_mapped.shape"
   ]
  },
  {
   "cell_type": "code",
   "execution_count": 61,
   "metadata": {},
   "outputs": [
    {
     "data": {
      "text/plain": [
       "((19410, 20), (2364, 22))"
      ]
     },
     "execution_count": 61,
     "metadata": {},
     "output_type": "execute_result"
    }
   ],
   "source": [
    "local_feb_mapped_merge = pd.merge(local_feb_mapped, mapping, on = ['rpc'])\n",
    "ti_feb_mapped_merge = pd.merge(ti_feb_mapped, mapping, on = ['rpc'])\n",
    "local_feb_mapped_merge.shape, ti_feb_mapped_merge.shape\n"
   ]
  },
  {
   "cell_type": "code",
   "execution_count": 62,
   "metadata": {},
   "outputs": [
    {
     "data": {
      "text/plain": [
       "Index(['Store_x', 'sub_store', 'url_x', 'rpc', 'product_description',\n",
       "       'review_id', 'review_date', 'username', 'review_text', 'review_rating',\n",
       "       'variant_1', 'variant_2', 'device', 'job_id', 'download_time',\n",
       "       'Store_y', 'Sub_store', 'Store_url', 'Brand', 'url_y'],\n",
       "      dtype='object')"
      ]
     },
     "execution_count": 62,
     "metadata": {},
     "output_type": "execute_result"
    }
   ],
   "source": [
    "local_feb_mapped_merge.columns"
   ]
  },
  {
   "cell_type": "code",
   "execution_count": 63,
   "metadata": {},
   "outputs": [
    {
     "data": {
      "text/plain": [
       "Index(['Store_x', 'Store_y', 'Sub_store', 'product_description', 'Brand',\n",
       "       'rpc', 'review_id', 'username', 'review_rating', 'variant_1',\n",
       "       'variant_2', 'url_x', 'url_y', 'review_date', 'review_text'],\n",
       "      dtype='object')"
      ]
     },
     "execution_count": 63,
     "metadata": {},
     "output_type": "execute_result"
    }
   ],
   "source": [
    "local_feb_mapped_merge_out = local_feb_mapped_merge[clm]\n",
    "ti_feb_mapped_merge_out = ti_feb_mapped_merge[clm]\n",
    "local_feb_mapped_merge_out.columns"
   ]
  },
  {
   "cell_type": "code",
   "execution_count": 28,
   "metadata": {},
   "outputs": [
    {
     "data": {
      "text/plain": [
       "Index(['Store_x', 'Store_y', 'Sub_store', 'Store_url', 'product_description',\n",
       "       'Brand', 'rpc', 'review_id', 'username', 'review_rating', 'variant_1',\n",
       "       'variant_2', 'url_x', 'url_y', 'review_date', 'review_text'],\n",
       "      dtype='object')"
      ]
     },
     "execution_count": 28,
     "metadata": {},
     "output_type": "execute_result"
    }
   ],
   "source": [
    "nestle_feb_1.rename(columns={'Store':'Store_x', 'url':'url_x'}, inplace= True)\n",
    "nestle_feb_1.columns"
   ]
  },
  {
   "cell_type": "code",
   "execution_count": 68,
   "metadata": {},
   "outputs": [
    {
     "data": {
      "text/plain": [
       "((2364, 13), (19410, 13), (17891, 13))"
      ]
     },
     "execution_count": 68,
     "metadata": {},
     "output_type": "execute_result"
    }
   ],
   "source": [
    "ti_feb_mapped_merge_out.shape, local_feb_mapped_merge_out.shape,nestle_jan_raw_review.shape"
   ]
  },
  {
   "cell_type": "code",
   "execution_count": 67,
   "metadata": {
    "collapsed": true
   },
   "outputs": [],
   "source": [
    "del ti_feb_mapped_merge_out['Store_y']\n",
    "del ti_feb_mapped_merge_out['url_y']\n",
    "\n",
    "del local_feb_mapped_merge_out['Store_y']\n",
    "del local_feb_mapped_merge_out['url_y']"
   ]
  },
  {
   "cell_type": "code",
   "execution_count": 70,
   "metadata": {},
   "outputs": [
    {
     "name": "stderr",
     "output_type": "stream",
     "text": [
      "C:\\Program Files\\Anaconda\\lib\\site-packages\\pandas\\core\\frame.py:2746: SettingWithCopyWarning: \n",
      "A value is trying to be set on a copy of a slice from a DataFrame\n",
      "\n",
      "See the caveats in the documentation: http://pandas.pydata.org/pandas-docs/stable/indexing.html#indexing-view-versus-copy\n",
      "  **kwargs)\n"
     ]
    }
   ],
   "source": [
    "ti_feb_mapped_merge_out.rename(columns={'Store_x':'Store','url_x':'url'}, inplace=True)\n",
    "local_feb_mapped_merge_out.rename(columns={'Store_x':'Store','url_x':'url'}, inplace=True)"
   ]
  },
  {
   "cell_type": "code",
   "execution_count": 72,
   "metadata": {
    "scrolled": true
   },
   "outputs": [
    {
     "data": {
      "text/plain": [
       "array([ True,  True,  True,  True,  True,  True,  True,  True,  True,\n",
       "        True,  True,  True,  True], dtype=bool)"
      ]
     },
     "execution_count": 72,
     "metadata": {},
     "output_type": "execute_result"
    }
   ],
   "source": [
    "ti_feb_mapped_merge_out.columns == nestle_jan_raw_review.columns"
   ]
  },
  {
   "cell_type": "code",
   "execution_count": 108,
   "metadata": {},
   "outputs": [
    {
     "data": {
      "text/plain": [
       "(39665, 13)"
      ]
     },
     "execution_count": 108,
     "metadata": {},
     "output_type": "execute_result"
    }
   ],
   "source": [
    "nestle_2m_raw_review = pd.concat([ti_feb_mapped_merge_out, local_feb_mapped_merge_out,nestle_jan_raw_review])\n",
    "nestle_2m_raw_review.shape"
   ]
  },
  {
   "cell_type": "code",
   "execution_count": 109,
   "metadata": {},
   "outputs": [
    {
     "data": {
      "text/plain": [
       "(39665, 13)"
      ]
     },
     "execution_count": 109,
     "metadata": {},
     "output_type": "execute_result"
    }
   ],
   "source": [
    "nestle_2m_raw_review['review_text'] = nestle_2m_raw_review.apply(fix_text,axis=1)\n",
    "nestle_2m_raw_review.shape"
   ]
  },
  {
   "cell_type": "code",
   "execution_count": 110,
   "metadata": {
    "scrolled": true
   },
   "outputs": [
    {
     "name": "stderr",
     "output_type": "stream",
     "text": [
      "C:\\Program Files\\Anaconda\\lib\\site-packages\\pandas\\core\\computation\\expressions.py:183: UserWarning: evaluating in Python space because the '-' operator is not supported by numexpr for the bool dtype, use '^' instead\n",
      "  unsupported[op_str]))\n"
     ]
    },
    {
     "data": {
      "text/plain": [
       "Index(['Store', 'Sub_store', 'product_description', 'Brand', 'rpc',\n",
       "       'review_id', 'username', 'review_rating', 'variant_1', 'variant_2',\n",
       "       'url', 'review_date', 'review_text'],\n",
       "      dtype='object')"
      ]
     },
     "execution_count": 110,
     "metadata": {},
     "output_type": "execute_result"
    }
   ],
   "source": [
    "#删除其中的'系统默认好评', '此用户未填写评价内容'\n",
    "nestle_2m_raw_review= nestle_2m_raw_review[True - nestle_2m_raw_review['review_text'].str.contains('系统默认好评')]\n",
    "nestle_2m_raw_review= nestle_2m_raw_review[True - nestle_2m_raw_review['review_text'].str.contains('此用户未填写评价内容')]\n",
    "\n",
    "#del nestle_2m_raw_review['Store_y']\n",
    "#del nestle_2m_raw_review['url_y']\n",
    "#nestle_2m_raw_review.rename(columns={'Store_x':'Store','url_x':'url'}, inplace=True)\n",
    "nestle_2m_raw_review.columns"
   ]
  },
  {
   "cell_type": "code",
   "execution_count": 111,
   "metadata": {},
   "outputs": [
    {
     "data": {
      "text/html": [
       "<div>\n",
       "<style>\n",
       "    .dataframe thead tr:only-child th {\n",
       "        text-align: right;\n",
       "    }\n",
       "\n",
       "    .dataframe thead th {\n",
       "        text-align: left;\n",
       "    }\n",
       "\n",
       "    .dataframe tbody tr th {\n",
       "        vertical-align: top;\n",
       "    }\n",
       "</style>\n",
       "<table border=\"1\" class=\"dataframe\">\n",
       "  <thead>\n",
       "    <tr style=\"text-align: right;\">\n",
       "      <th></th>\n",
       "      <th>Store</th>\n",
       "      <th>Sub_store</th>\n",
       "      <th>product_description</th>\n",
       "      <th>Brand</th>\n",
       "      <th>rpc</th>\n",
       "      <th>review_id</th>\n",
       "      <th>username</th>\n",
       "      <th>review_rating</th>\n",
       "      <th>variant_1</th>\n",
       "      <th>variant_2</th>\n",
       "      <th>url</th>\n",
       "      <th>review_date</th>\n",
       "      <th>review_text</th>\n",
       "    </tr>\n",
       "  </thead>\n",
       "  <tbody>\n",
       "    <tr>\n",
       "      <th>0</th>\n",
       "      <td>Suning</td>\n",
       "      <td>雀巢母婴自营旗舰店</td>\n",
       "      <td>自营 雀巢 (Nestle) 能恩3 幼儿配方奶粉 3段（12-36个月）900克</td>\n",
       "      <td>NAN</td>\n",
       "      <td>610800875</td>\n",
       "      <td>NaN</td>\n",
       "      <td>NaN</td>\n",
       "      <td>5</td>\n",
       "      <td>NaN</td>\n",
       "      <td>NaN</td>\n",
       "      <td>https://product.suning.com/0000000000/61080087...</td>\n",
       "      <td>2018-02-21T09:42:38</td>\n",
       "      <td>宝宝吃了不上火，孩子的营养更均衡，雀巢奶粉大品牌值得信赖，宝贝健康成长</td>\n",
       "    </tr>\n",
       "    <tr>\n",
       "      <th>1</th>\n",
       "      <td>Suning</td>\n",
       "      <td>雀巢母婴自营旗舰店</td>\n",
       "      <td>自营 雀巢 (Nestle) 能恩3 幼儿配方奶粉 3段（12-36个月）900克</td>\n",
       "      <td>NAN</td>\n",
       "      <td>610800875</td>\n",
       "      <td>NaN</td>\n",
       "      <td>NaN</td>\n",
       "      <td>5</td>\n",
       "      <td>NaN</td>\n",
       "      <td>NaN</td>\n",
       "      <td>https://product.suning.com/0000000000/61080087...</td>\n",
       "      <td>2018-02-21T17:35:27</td>\n",
       "      <td>奶粉质量挺好的，很值得信赖，活动优惠力度比较大 很好喝的一款奶粉宝宝喝了不上火会继续购买、物...</td>\n",
       "    </tr>\n",
       "    <tr>\n",
       "      <th>2</th>\n",
       "      <td>Suning</td>\n",
       "      <td>雀巢母婴自营旗舰店</td>\n",
       "      <td>自营 雀巢 (Nestle) 能恩3 幼儿配方奶粉 3段（12-36个月）900克</td>\n",
       "      <td>NAN</td>\n",
       "      <td>610800875</td>\n",
       "      <td>NaN</td>\n",
       "      <td>NaN</td>\n",
       "      <td>5</td>\n",
       "      <td>NaN</td>\n",
       "      <td>NaN</td>\n",
       "      <td>https://product.suning.com/0000000000/61080087...</td>\n",
       "      <td>2018-02-22T02:33:08</td>\n",
       "      <td>东西收到好多天了用过了才评价发货速度快包装的很严密与卖家描述的一致很好哦</td>\n",
       "    </tr>\n",
       "    <tr>\n",
       "      <th>3</th>\n",
       "      <td>Suning</td>\n",
       "      <td>雀巢母婴自营旗舰店</td>\n",
       "      <td>自营 雀巢 (Nestle) 能恩3 幼儿配方奶粉 3段（12-36个月）900克</td>\n",
       "      <td>NAN</td>\n",
       "      <td>610800875</td>\n",
       "      <td>NaN</td>\n",
       "      <td>NaN</td>\n",
       "      <td>5</td>\n",
       "      <td>NaN</td>\n",
       "      <td>NaN</td>\n",
       "      <td>https://product.suning.com/0000000000/61080087...</td>\n",
       "      <td>2018-02-21T22:43:27</td>\n",
       "      <td>商品质量非常好。卖家服务态度贼好。在此表示感谢。物流也贼快！</td>\n",
       "    </tr>\n",
       "  </tbody>\n",
       "</table>\n",
       "</div>"
      ],
      "text/plain": [
       "    Store  Sub_store                        product_description Brand  \\\n",
       "0  Suning  雀巢母婴自营旗舰店  自营 雀巢 (Nestle) 能恩3 幼儿配方奶粉 3段（12-36个月）900克   NAN   \n",
       "1  Suning  雀巢母婴自营旗舰店  自营 雀巢 (Nestle) 能恩3 幼儿配方奶粉 3段（12-36个月）900克   NAN   \n",
       "2  Suning  雀巢母婴自营旗舰店  自营 雀巢 (Nestle) 能恩3 幼儿配方奶粉 3段（12-36个月）900克   NAN   \n",
       "3  Suning  雀巢母婴自营旗舰店  自营 雀巢 (Nestle) 能恩3 幼儿配方奶粉 3段（12-36个月）900克   NAN   \n",
       "\n",
       "         rpc  review_id username review_rating variant_1 variant_2  \\\n",
       "0  610800875        NaN      NaN             5       NaN       NaN   \n",
       "1  610800875        NaN      NaN             5       NaN       NaN   \n",
       "2  610800875        NaN      NaN             5       NaN       NaN   \n",
       "3  610800875        NaN      NaN             5       NaN       NaN   \n",
       "\n",
       "                                                 url          review_date  \\\n",
       "0  https://product.suning.com/0000000000/61080087...  2018-02-21T09:42:38   \n",
       "1  https://product.suning.com/0000000000/61080087...  2018-02-21T17:35:27   \n",
       "2  https://product.suning.com/0000000000/61080087...  2018-02-22T02:33:08   \n",
       "3  https://product.suning.com/0000000000/61080087...  2018-02-21T22:43:27   \n",
       "\n",
       "                                         review_text  \n",
       "0                宝宝吃了不上火，孩子的营养更均衡，雀巢奶粉大品牌值得信赖，宝贝健康成长  \n",
       "1  奶粉质量挺好的，很值得信赖，活动优惠力度比较大 很好喝的一款奶粉宝宝喝了不上火会继续购买、物...  \n",
       "2               东西收到好多天了用过了才评价发货速度快包装的很严密与卖家描述的一致很好哦  \n",
       "3                     商品质量非常好。卖家服务态度贼好。在此表示感谢。物流也贼快！  "
      ]
     },
     "execution_count": 111,
     "metadata": {},
     "output_type": "execute_result"
    }
   ],
   "source": [
    "nestle_2m_raw_review.head(4)"
   ]
  },
  {
   "cell_type": "code",
   "execution_count": 112,
   "metadata": {},
   "outputs": [
    {
     "data": {
      "text/plain": [
       "array([ True,  True,  True,  True,  True,  True,  True,  True,  True,\n",
       "        True,  True,  True,  True], dtype=bool)"
      ]
     },
     "execution_count": 112,
     "metadata": {},
     "output_type": "execute_result"
    }
   ],
   "source": [
    "nestle_2m_raw_review.columns ==nestle_MOM_raw_review.columns\n"
   ]
  },
  {
   "cell_type": "code",
   "execution_count": 113,
   "metadata": {},
   "outputs": [
    {
     "data": {
      "text/plain": [
       "Index(['Store', 'Sub_store', 'product_description', 'Brand', 'rpc',\n",
       "       'review_id', 'username', 'review_rating', 'variant_1', 'variant_2',\n",
       "       'url', 'review_date', 'review_text'],\n",
       "      dtype='object')"
      ]
     },
     "execution_count": 113,
     "metadata": {},
     "output_type": "execute_result"
    }
   ],
   "source": [
    "nestle_MOM_raw_review.columns"
   ]
  },
  {
   "cell_type": "code",
   "execution_count": 85,
   "metadata": {
    "collapsed": true
   },
   "outputs": [],
   "source": [
    "# del nestle_MOM_raw_review['Store_url']"
   ]
  },
  {
   "cell_type": "code",
   "execution_count": 114,
   "metadata": {},
   "outputs": [
    {
     "data": {
      "text/plain": [
       "(39608, 13)"
      ]
     },
     "execution_count": 114,
     "metadata": {},
     "output_type": "execute_result"
    }
   ],
   "source": [
    "nestle_2m_raw_review = pd.concat([nestle_2m_raw_review, nestle_MOM_raw_review])\n",
    "nestle_2m_raw_review.shape"
   ]
  },
  {
   "cell_type": "code",
   "execution_count": 87,
   "metadata": {},
   "outputs": [
    {
     "data": {
      "text/plain": [
       "Index(['Store', 'Sub_store', 'product_description', 'Brand', 'rpc',\n",
       "       'review_id', 'username', 'review_rating', 'variant_1', 'variant_2',\n",
       "       'url', 'review_date', 'review_text'],\n",
       "      dtype='object')"
      ]
     },
     "execution_count": 87,
     "metadata": {},
     "output_type": "execute_result"
    }
   ],
   "source": [
    "nestle_2m_raw_review.columns"
   ]
  },
  {
   "cell_type": "code",
   "execution_count": 115,
   "metadata": {},
   "outputs": [
    {
     "data": {
      "text/plain": [
       "Gerber    21754\n",
       "NAN       12220\n",
       "NAN HA     4775\n",
       "MAM         859\n",
       "Name: Brand, dtype: int64"
      ]
     },
     "execution_count": 115,
     "metadata": {},
     "output_type": "execute_result"
    }
   ],
   "source": [
    "nestle_2m_raw_review['Brand'].value_counts()"
   ]
  },
  {
   "cell_type": "code",
   "execution_count": 116,
   "metadata": {
    "collapsed": true
   },
   "outputs": [],
   "source": [
    "def get_stage(s):\n",
    "    idx = None\n",
    "    if s.find('阶段') == -1:\n",
    "        idx = s.find('段')\n",
    "        return s[(idx-1):(idx+1)]\n",
    "    else:\n",
    "        idx = s.find('阶段')\n",
    "        return s[(idx-1):(idx+2)]\n"
   ]
  },
  {
   "cell_type": "code",
   "execution_count": 117,
   "metadata": {
    "collapsed": true
   },
   "outputs": [],
   "source": [
    "clm = nestle_2m_raw_review.columns\n",
    "clm = ['Store', 'Sub_store', 'product_description', 'Brand', 'stage', 'rpc',\n",
    "       'review_id', 'username', 'review_rating', 'variant_1', 'variant_2',\n",
    "       'url', 'review_date', 'review_text']"
   ]
  },
  {
   "cell_type": "code",
   "execution_count": 121,
   "metadata": {},
   "outputs": [
    {
     "data": {
      "text/html": [
       "<div>\n",
       "<style>\n",
       "    .dataframe thead tr:only-child th {\n",
       "        text-align: right;\n",
       "    }\n",
       "\n",
       "    .dataframe thead th {\n",
       "        text-align: left;\n",
       "    }\n",
       "\n",
       "    .dataframe tbody tr th {\n",
       "        vertical-align: top;\n",
       "    }\n",
       "</style>\n",
       "<table border=\"1\" class=\"dataframe\">\n",
       "  <thead>\n",
       "    <tr style=\"text-align: right;\">\n",
       "      <th></th>\n",
       "      <th>Store</th>\n",
       "      <th>Sub_store</th>\n",
       "      <th>product_description</th>\n",
       "      <th>Brand</th>\n",
       "      <th>stage</th>\n",
       "      <th>rpc</th>\n",
       "      <th>review_id</th>\n",
       "      <th>username</th>\n",
       "      <th>review_rating</th>\n",
       "      <th>variant_1</th>\n",
       "      <th>variant_2</th>\n",
       "      <th>url</th>\n",
       "      <th>review_date</th>\n",
       "      <th>review_text</th>\n",
       "    </tr>\n",
       "  </thead>\n",
       "  <tbody>\n",
       "    <tr>\n",
       "      <th>754</th>\n",
       "      <td>JD</td>\n",
       "      <td>雀巢官方专卖店</td>\n",
       "      <td>雀巢（NESTLE） 孕产妇奶粉 妈妈配方奶粉 （孕妇产妇适用） 900g*2罐</td>\n",
       "      <td>MAM</td>\n",
       "      <td></td>\n",
       "      <td>13516246556</td>\n",
       "      <td>1.113196e+10</td>\n",
       "      <td>s***g</td>\n",
       "      <td>5</td>\n",
       "      <td>900g*2罐</td>\n",
       "      <td>NaN</td>\n",
       "      <td>https://item.jd.com/13516246556.html</td>\n",
       "      <td>2018-01-04 21:17:23</td>\n",
       "      <td>哇哦，特别超值！准备启用?中啦</td>\n",
       "    </tr>\n",
       "    <tr>\n",
       "      <th>755</th>\n",
       "      <td>JD</td>\n",
       "      <td>雀巢官方专卖店</td>\n",
       "      <td>雀巢（NESTLE） 孕产妇奶粉 妈妈配方奶粉 （孕妇产妇适用） 900g*2罐</td>\n",
       "      <td>MAM</td>\n",
       "      <td></td>\n",
       "      <td>13516246556</td>\n",
       "      <td>1.112657e+10</td>\n",
       "      <td>j***v</td>\n",
       "      <td>5</td>\n",
       "      <td>900g*2罐</td>\n",
       "      <td>NaN</td>\n",
       "      <td>https://item.jd.com/13516246556.html</td>\n",
       "      <td>2018-01-02 22:27:27</td>\n",
       "      <td>一直都喝的这款奶粉，宝宝长得壮壮的</td>\n",
       "    </tr>\n",
       "    <tr>\n",
       "      <th>756</th>\n",
       "      <td>JD</td>\n",
       "      <td>雀巢官方专卖店</td>\n",
       "      <td>雀巢（NESTLE） 孕产妇奶粉 妈妈配方奶粉 （孕妇产妇适用） 900g*2罐</td>\n",
       "      <td>MAM</td>\n",
       "      <td></td>\n",
       "      <td>13516246556</td>\n",
       "      <td>1.112335e+10</td>\n",
       "      <td>y***7</td>\n",
       "      <td>5</td>\n",
       "      <td>900g*2罐</td>\n",
       "      <td>NaN</td>\n",
       "      <td>https://item.jd.com/13516246556.html</td>\n",
       "      <td>2018-01-01 20:42:41</td>\n",
       "      <td>买了好多次，从怀孕就喝雀巢孕妇奶粉，一直都是信奈你家。</td>\n",
       "    </tr>\n",
       "  </tbody>\n",
       "</table>\n",
       "</div>"
      ],
      "text/plain": [
       "    Store Sub_store                       product_description Brand stage  \\\n",
       "754    JD   雀巢官方专卖店  雀巢（NESTLE） 孕产妇奶粉 妈妈配方奶粉 （孕妇产妇适用） 900g*2罐   MAM         \n",
       "755    JD   雀巢官方专卖店  雀巢（NESTLE） 孕产妇奶粉 妈妈配方奶粉 （孕妇产妇适用） 900g*2罐   MAM         \n",
       "756    JD   雀巢官方专卖店  雀巢（NESTLE） 孕产妇奶粉 妈妈配方奶粉 （孕妇产妇适用） 900g*2罐   MAM         \n",
       "\n",
       "             rpc     review_id username review_rating variant_1 variant_2  \\\n",
       "754  13516246556  1.113196e+10    s***g             5   900g*2罐       NaN   \n",
       "755  13516246556  1.112657e+10    j***v             5   900g*2罐       NaN   \n",
       "756  13516246556  1.112335e+10    y***7             5   900g*2罐       NaN   \n",
       "\n",
       "                                      url          review_date  \\\n",
       "754  https://item.jd.com/13516246556.html  2018-01-04 21:17:23   \n",
       "755  https://item.jd.com/13516246556.html  2018-01-02 22:27:27   \n",
       "756  https://item.jd.com/13516246556.html  2018-01-01 20:42:41   \n",
       "\n",
       "                     review_text  \n",
       "754              哇哦，特别超值！准备启用?中啦  \n",
       "755            一直都喝的这款奶粉，宝宝长得壮壮的  \n",
       "756  买了好多次，从怀孕就喝雀巢孕妇奶粉，一直都是信奈你家。  "
      ]
     },
     "execution_count": 121,
     "metadata": {},
     "output_type": "execute_result"
    }
   ],
   "source": [
    "nestle_2m_raw_review['stage'] = nestle_2m_raw_review['product_description'].apply(get_stage)\n",
    "nestle_2m_raw_review = nestle_2m_raw_review[clm]\n",
    "nestle_2m_raw_review.tail(3)"
   ]
  },
  {
   "cell_type": "code",
   "execution_count": 124,
   "metadata": {
    "collapsed": true
   },
   "outputs": [],
   "source": [
    "nestle_2m_raw_review['Brand'].value_counts()\n",
    "nestle_2m_raw_review['username'] = nestle_2m_raw_review.apply(fix_name,axis=1)"
   ]
  },
  {
   "cell_type": "code",
   "execution_count": 128,
   "metadata": {
    "scrolled": true
   },
   "outputs": [
    {
     "data": {
      "text/html": [
       "<div>\n",
       "<style>\n",
       "    .dataframe thead tr:only-child th {\n",
       "        text-align: right;\n",
       "    }\n",
       "\n",
       "    .dataframe thead th {\n",
       "        text-align: left;\n",
       "    }\n",
       "\n",
       "    .dataframe tbody tr th {\n",
       "        vertical-align: top;\n",
       "    }\n",
       "</style>\n",
       "<table border=\"1\" class=\"dataframe\">\n",
       "  <thead>\n",
       "    <tr style=\"text-align: right;\">\n",
       "      <th></th>\n",
       "      <th>Store</th>\n",
       "      <th>Sub_store</th>\n",
       "      <th>product_description</th>\n",
       "      <th>Brand</th>\n",
       "      <th>stage</th>\n",
       "      <th>rpc</th>\n",
       "      <th>review_id</th>\n",
       "      <th>username</th>\n",
       "      <th>review_rating</th>\n",
       "      <th>variant_1</th>\n",
       "      <th>variant_2</th>\n",
       "      <th>url</th>\n",
       "      <th>review_date</th>\n",
       "      <th>review_text</th>\n",
       "    </tr>\n",
       "  </thead>\n",
       "  <tbody>\n",
       "    <tr>\n",
       "      <th>754</th>\n",
       "      <td>JD</td>\n",
       "      <td>雀巢官方专卖店</td>\n",
       "      <td>雀巢（NESTLE） 孕产妇奶粉 妈妈配方奶粉 （孕妇产妇适用） 900g*2罐</td>\n",
       "      <td>MAM</td>\n",
       "      <td></td>\n",
       "      <td>13516246556</td>\n",
       "      <td>1.113196e+10</td>\n",
       "      <td>sg</td>\n",
       "      <td>5</td>\n",
       "      <td>900g*2罐</td>\n",
       "      <td>NaN</td>\n",
       "      <td>https://item.jd.com/13516246556.html</td>\n",
       "      <td>2018-01-04 21:17:23</td>\n",
       "      <td>哇哦，特别超值！准备启用?中啦</td>\n",
       "    </tr>\n",
       "    <tr>\n",
       "      <th>755</th>\n",
       "      <td>JD</td>\n",
       "      <td>雀巢官方专卖店</td>\n",
       "      <td>雀巢（NESTLE） 孕产妇奶粉 妈妈配方奶粉 （孕妇产妇适用） 900g*2罐</td>\n",
       "      <td>MAM</td>\n",
       "      <td></td>\n",
       "      <td>13516246556</td>\n",
       "      <td>1.112657e+10</td>\n",
       "      <td>jv</td>\n",
       "      <td>5</td>\n",
       "      <td>900g*2罐</td>\n",
       "      <td>NaN</td>\n",
       "      <td>https://item.jd.com/13516246556.html</td>\n",
       "      <td>2018-01-02 22:27:27</td>\n",
       "      <td>一直都喝的这款奶粉，宝宝长得壮壮的</td>\n",
       "    </tr>\n",
       "    <tr>\n",
       "      <th>756</th>\n",
       "      <td>JD</td>\n",
       "      <td>雀巢官方专卖店</td>\n",
       "      <td>雀巢（NESTLE） 孕产妇奶粉 妈妈配方奶粉 （孕妇产妇适用） 900g*2罐</td>\n",
       "      <td>MAM</td>\n",
       "      <td></td>\n",
       "      <td>13516246556</td>\n",
       "      <td>1.112335e+10</td>\n",
       "      <td>y7</td>\n",
       "      <td>5</td>\n",
       "      <td>900g*2罐</td>\n",
       "      <td>NaN</td>\n",
       "      <td>https://item.jd.com/13516246556.html</td>\n",
       "      <td>2018-01-01 20:42:41</td>\n",
       "      <td>买了好多次，从怀孕就喝雀巢孕妇奶粉，一直都是信奈你家。</td>\n",
       "    </tr>\n",
       "  </tbody>\n",
       "</table>\n",
       "</div>"
      ],
      "text/plain": [
       "    Store Sub_store                       product_description Brand stage  \\\n",
       "754    JD   雀巢官方专卖店  雀巢（NESTLE） 孕产妇奶粉 妈妈配方奶粉 （孕妇产妇适用） 900g*2罐   MAM         \n",
       "755    JD   雀巢官方专卖店  雀巢（NESTLE） 孕产妇奶粉 妈妈配方奶粉 （孕妇产妇适用） 900g*2罐   MAM         \n",
       "756    JD   雀巢官方专卖店  雀巢（NESTLE） 孕产妇奶粉 妈妈配方奶粉 （孕妇产妇适用） 900g*2罐   MAM         \n",
       "\n",
       "             rpc     review_id username review_rating variant_1 variant_2  \\\n",
       "754  13516246556  1.113196e+10       sg             5   900g*2罐       NaN   \n",
       "755  13516246556  1.112657e+10       jv             5   900g*2罐       NaN   \n",
       "756  13516246556  1.112335e+10       y7             5   900g*2罐       NaN   \n",
       "\n",
       "                                      url          review_date  \\\n",
       "754  https://item.jd.com/13516246556.html  2018-01-04 21:17:23   \n",
       "755  https://item.jd.com/13516246556.html  2018-01-02 22:27:27   \n",
       "756  https://item.jd.com/13516246556.html  2018-01-01 20:42:41   \n",
       "\n",
       "                     review_text  \n",
       "754              哇哦，特别超值！准备启用?中啦  \n",
       "755            一直都喝的这款奶粉，宝宝长得壮壮的  \n",
       "756  买了好多次，从怀孕就喝雀巢孕妇奶粉，一直都是信奈你家。  "
      ]
     },
     "execution_count": 128,
     "metadata": {},
     "output_type": "execute_result"
    }
   ],
   "source": [
    "nestle_2m_raw_review.tail(3)"
   ]
  },
  {
   "cell_type": "code",
   "execution_count": 132,
   "metadata": {
    "collapsed": true
   },
   "outputs": [],
   "source": [
    "nestle_2m_raw_review.to_csv('nestle_2m_raw_review.csv', index= False, encoding='utf-8')\n"
   ]
  },
  {
   "cell_type": "code",
   "execution_count": 129,
   "metadata": {},
   "outputs": [
    {
     "data": {
      "text/plain": [
       "Gerber    21754\n",
       "NAN       12220\n",
       "NAN HA     4775\n",
       "MAM         859\n",
       "Name: Brand, dtype: int64"
      ]
     },
     "execution_count": 129,
     "metadata": {},
     "output_type": "execute_result"
    }
   ],
   "source": [
    "nestle_2m_raw_review['Brand'].value_counts()"
   ]
  },
  {
   "cell_type": "code",
   "execution_count": 130,
   "metadata": {},
   "outputs": [
    {
     "data": {
      "text/plain": [
       "(39608, 14)"
      ]
     },
     "execution_count": 130,
     "metadata": {},
     "output_type": "execute_result"
    }
   ],
   "source": [
    "nestle_2m_raw_review_dedup = nestle_2m_raw_review.drop_duplicates()"
   ]
  },
  {
   "cell_type": "code",
   "execution_count": 131,
   "metadata": {},
   "outputs": [
    {
     "data": {
      "text/plain": [
       "(38354, 14)"
      ]
     },
     "execution_count": 131,
     "metadata": {},
     "output_type": "execute_result"
    }
   ],
   "source": [
    "nestle_2m_raw_review_dedup = nestle_2m_raw_review.drop_duplicates()\n",
    "nestle_2m_raw_review_dedup.shape"
   ]
  },
  {
   "cell_type": "code",
   "execution_count": 133,
   "metadata": {
    "collapsed": true
   },
   "outputs": [],
   "source": [
    "nestle_2m_raw_review_dedup.to_csv('nestle_2m_raw_review_dedup.csv', index= False, encoding='utf-8')"
   ]
  },
  {
   "cell_type": "markdown",
   "metadata": {},
   "source": [
    "### MOM Jan. and Feb."
   ]
  },
  {
   "cell_type": "code",
   "execution_count": 39,
   "metadata": {},
   "outputs": [
    {
     "data": {
      "text/plain": [
       "((769, 15), (44, 23))"
      ]
     },
     "execution_count": 39,
     "metadata": {},
     "output_type": "execute_result"
    }
   ],
   "source": [
    "local_MOM = pd.read_csv('local_MOM_nestle_jan_feb.xlsx.csv', encoding= 'utf-8')\n",
    "ti_MOM = pd.read_csv('ti_MOM__jan_feb.csv', encoding= 'utf-8')\n",
    "\n",
    "local_MOM.shape, ti_MOM.shape"
   ]
  },
  {
   "cell_type": "code",
   "execution_count": 40,
   "metadata": {},
   "outputs": [
    {
     "data": {
      "text/plain": [
       "Suning    44\n",
       "Name: store, dtype: int64"
      ]
     },
     "execution_count": 40,
     "metadata": {},
     "output_type": "execute_result"
    }
   ],
   "source": [
    "def get_store(url):\n",
    "    if 'amazon' in url:\n",
    "        return 'Amazon'\n",
    "    elif 'suning' in url:\n",
    "        return 'Suning'\n",
    "    elif 'yhd' in url:\n",
    "        return 'YHD'\n",
    "    else:\n",
    "        return None\n",
    "\n",
    "ti_MOM['store'] = ti_MOM['url'].map(get_store)\n",
    "ti_MOM['store'].value_counts()"
   ]
  },
  {
   "cell_type": "code",
   "execution_count": 41,
   "metadata": {},
   "outputs": [
    {
     "name": "stderr",
     "output_type": "stream",
     "text": [
      "C:\\Program Files\\Anaconda\\lib\\site-packages\\pandas\\core\\computation\\expressions.py:183: UserWarning: evaluating in Python space because the '*' operator is not supported by numexpr for the bool dtype, use '&' instead\n",
      "  unsupported[op_str]))\n",
      "C:\\Program Files\\Anaconda\\lib\\site-packages\\pandas\\core\\computation\\expressions.py:183: UserWarning: evaluating in Python space because the '-' operator is not supported by numexpr for the bool dtype, use '^' instead\n",
      "  unsupported[op_str]))\n"
     ]
    },
    {
     "data": {
      "text/plain": [
       "(798, 14)"
      ]
     },
     "execution_count": 41,
     "metadata": {},
     "output_type": "execute_result"
    }
   ],
   "source": [
    "ti_MOM['username'] = np.NAN\n",
    "ti_MOM['variant_1'] = np.NAN\n",
    "ti_MOM['variant_2'] = np.NAN\n",
    "ti_MOM['review_id'] = np.NAN\n",
    "\n",
    "# 提前修改列名\n",
    "local_MOM.rename(columns={'store':'Store','retailer_product_code':'rpc','title':'product_description', 'creation_date':'review_date'},inplace=True)\n",
    "ti_MOM.rename(columns={'store':'Store','retailer_product_code':'rpc','harvest_product_description':'product_description'}, inplace=True)\n",
    "\n",
    "# 修改rpc列的数据格式, 为后面匹配做准备\n",
    "mapping['rpc'] = mapping['rpc'].astype(str)\n",
    "local_MOM['rpc'] = local_MOM['rpc'].astype(str)\n",
    "ti_MOM['rpc'] = ti_MOM['rpc'].astype(str)\n",
    "\n",
    "# 选取所需要的url (根据rpc, ti 的还要考虑store)\n",
    "local_MOM_mapped = local_MOM.loc[local_MOM['rpc'].isin(mapping['rpc'])]\n",
    "ti_MOM_mapped = ti_MOM.loc[ti_MOM['rpc'].isin(mapping['rpc']) * ti_MOM['Store'].isin(mapping['Store'])]\n",
    "\n",
    "# 和mapping 文件做条件合并 \n",
    "local_MOM_mapped_merge = pd.merge(local_MOM_mapped, mapping, on = ['rpc'])\n",
    "ti_MOM_mapped_merge = pd.merge(ti_MOM_mapped, mapping, on = ['rpc'])\n",
    "\n",
    "\n",
    "# 选取所需列\n",
    "local_MOM_mapped_merge_out = local_MOM_mapped_merge[clm]\n",
    "ti_MOM_mapped_merge_out = ti_MOM_mapped_merge[clm]\n",
    "\n",
    "# 合并ti 和 local \n",
    "nestle_MOM_raw_review = pd.concat([ti_MOM_mapped_merge_out, local_MOM_mapped_merge_out])\n",
    "\n",
    "nestle_MOM_raw_review['review_text'] = nestle_MOM_raw_review.apply(fix_text,axis=1)\n",
    "nestle_MOM_raw_review.shape\n",
    "\n",
    "#删除其中的'系统默认好评' '此用户未填写评价内容'\n",
    "nestle_MOM_raw_review= nestle_MOM_raw_review[True - nestle_MOM_raw_review['review_text'].str.contains('系统默认好评')]\n",
    "nestle_MOM_raw_review= nestle_MOM_raw_review[True - nestle_MOM_raw_review['review_text'].str.contains('此用户未填写评价内容')]\n",
    "# 删除合并文件后重复的列\n",
    "del nestle_MOM_raw_review['Store_y']\n",
    "del nestle_MOM_raw_review['url_y']\n",
    "\n",
    "# 修改列名, 完成所有MOM产品的合并, 清洗\n",
    "nestle_MOM_raw_review.rename(columns={'Store_x':'Store','url_x':'url'}, inplace=True)\n",
    "nestle_MOM_raw_review.shape\n",
    "\n"
   ]
  },
  {
   "cell_type": "code",
   "execution_count": 577,
   "metadata": {
    "collapsed": true
   },
   "outputs": [],
   "source": [
    "# 按照January 和February 进行数据拆分\n",
    "nestle_MOM_jan_raw_review = nestle_MOM_raw_review[nestle_MOM_raw_review['review_date'].str.contains('2018-01')]\n",
    "nestle_MOM_feb_raw_review = nestle_MOM_raw_review[nestle_MOM_raw_review['review_date'].str.contains('2018-02')]"
   ]
  },
  {
   "cell_type": "code",
   "execution_count": 578,
   "metadata": {},
   "outputs": [
    {
     "data": {
      "text/plain": [
       "((336, 14), (465, 14))"
      ]
     },
     "execution_count": 578,
     "metadata": {},
     "output_type": "execute_result"
    }
   ],
   "source": [
    "nestle_MOM_jan_raw_review.shape, nestle_MOM_feb_raw_review.shape"
   ]
  },
  {
   "cell_type": "code",
   "execution_count": 583,
   "metadata": {
    "collapsed": true
   },
   "outputs": [],
   "source": [
    "# 将February的所有数据合并, 下一步运POSTag java 程序\n",
    "nestle_feb_raw_review_final = pd.concat([nestle_feb_raw_review, nestle_MOM_feb_raw_review])\n",
    "\n",
    "# 写出文件\n",
    "nestle_feb_raw_review_final.to_csv('nestle_feb_raw_review_final.csv', index= False, encoding= 'utf-8')"
   ]
  },
  {
   "cell_type": "code",
   "execution_count": 582,
   "metadata": {},
   "outputs": [
    {
     "data": {
      "text/plain": [
       "Gerber    12973\n",
       "NAN        6504\n",
       "NAN HA     2710\n",
       "MOM         498\n",
       "Name: Brand, dtype: int64"
      ]
     },
     "execution_count": 582,
     "metadata": {},
     "output_type": "execute_result"
    }
   ],
   "source": [
    "nestle_feb_raw_review_final['Brand'].value_counts()"
   ]
  },
  {
   "cell_type": "code",
   "execution_count": 591,
   "metadata": {},
   "outputs": [
    {
     "data": {
      "text/plain": [
       "Index(['Store', 'Sub_store', 'Store_url', 'product_description', 'Brand',\n",
       "       'rpc', 'review_id', 'username', 'review_rating', 'variant_1',\n",
       "       'variant_2', 'url', 'review_date', 'review_text'],\n",
       "      dtype='object')"
      ]
     },
     "execution_count": 591,
     "metadata": {},
     "output_type": "execute_result"
    }
   ],
   "source": [
    "nestle_feb_raw_review_final.columns"
   ]
  },
  {
   "cell_type": "code",
   "execution_count": 585,
   "metadata": {},
   "outputs": [
    {
     "data": {
      "text/plain": [
       "Gerber    8931\n",
       "NAN       5815\n",
       "NAN HA    2099\n",
       "MOM        364\n",
       "Name: Brand, dtype: int64"
      ]
     },
     "execution_count": 585,
     "metadata": {},
     "output_type": "execute_result"
    }
   ],
   "source": [
    "nestle_jan_raw_review_final = pd.concat([nestle_jan_raw_review, nestle_MOM_jan_raw_review])\n",
    "nestle_jan_raw_review_final['Brand'].value_counts()"
   ]
  },
  {
   "cell_type": "code",
   "execution_count": null,
   "metadata": {
    "collapsed": true
   },
   "outputs": [],
   "source": [
    "nestle_MOM_jan_raw_review.to_csv('nestle_MOM_jan_raw_review.csv', index= False, encoding='utf-8')\n"
   ]
  },
  {
   "cell_type": "code",
   "execution_count": 586,
   "metadata": {
    "collapsed": true
   },
   "outputs": [],
   "source": [
    "nestle_jan_raw_review_final.to_csv('nestle_jan_raw_review_final.csv',index=False, encoding='utf-8')"
   ]
  },
  {
   "cell_type": "code",
   "execution_count": 588,
   "metadata": {
    "collapsed": true
   },
   "outputs": [],
   "source": [
    "nestle_MOM_jan_raw_review.to_csv('nestle_MOM_jan_raw_review.csv', index=False, encoding='utf-8')"
   ]
  },
  {
   "cell_type": "code",
   "execution_count": 590,
   "metadata": {
    "collapsed": true
   },
   "outputs": [],
   "source": [
    "mapping.to_csv('store_urls.csv', index= False, encoding='utf-8')"
   ]
  }
 ],
 "metadata": {
  "kernelspec": {
   "display_name": "Python 3",
   "language": "python",
   "name": "python3"
  },
  "language_info": {
   "codemirror_mode": {
    "name": "ipython",
    "version": 3
   },
   "file_extension": ".py",
   "mimetype": "text/x-python",
   "name": "python",
   "nbconvert_exporter": "python",
   "pygments_lexer": "ipython3",
   "version": "3.6.3"
  }
 },
 "nbformat": 4,
 "nbformat_minor": 2
}
